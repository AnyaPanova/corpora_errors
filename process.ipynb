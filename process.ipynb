{
  "nbformat": 4,
  "nbformat_minor": 0,
  "metadata": {
    "colab": {
      "provenance": []
    },
    "kernelspec": {
      "name": "python3",
      "display_name": "Python 3"
    },
    "language_info": {
      "name": "python"
    }
  },
  "cells": [
    {
      "cell_type": "code",
      "execution_count": null,
      "metadata": {
        "colab": {
          "base_uri": "https://localhost:8080/"
        },
        "id": "vHgJ4Pqbz-Wi",
        "outputId": "f7072acd-3521-44af-f8af-b41a77e10aa1"
      },
      "outputs": [
        {
          "output_type": "stream",
          "name": "stdout",
          "text": [
            "Mounted at /content/gdrive\n"
          ]
        }
      ],
      "source": [
        "from google.colab import drive\n",
        "drive.mount('/content/gdrive')"
      ]
    },
    {
      "cell_type": "code",
      "source": [
        "!pip install speach"
      ],
      "metadata": {
        "colab": {
          "base_uri": "https://localhost:8080/"
        },
        "id": "W77eUIOu0Wyo",
        "outputId": "df52725d-012a-4619-882b-f390199919de"
      },
      "execution_count": null,
      "outputs": [
        {
          "output_type": "stream",
          "name": "stdout",
          "text": [
            "Collecting speach\n",
            "  Downloading speach-0.1a15.post1.tar.gz (46 kB)\n",
            "\u001b[?25l     \u001b[90m━━━━━━━━━━━━━━━━━━━━━━━━━━━━━━━━━━━━━━━━\u001b[0m \u001b[32m0.0/46.3 kB\u001b[0m \u001b[31m?\u001b[0m eta \u001b[36m-:--:--\u001b[0m\r\u001b[2K     \u001b[90m━━━━━━━━━━━━━━━━━━━━━━━━━━━━━━━━━━━━━━━━\u001b[0m \u001b[32m46.3/46.3 kB\u001b[0m \u001b[31m1.7 MB/s\u001b[0m eta \u001b[36m0:00:00\u001b[0m\n",
            "\u001b[?25h  Preparing metadata (setup.py) ... \u001b[?25l\u001b[?25hdone\n",
            "Collecting chirptext<0.3,>=0.2a6.post1 (from speach)\n",
            "  Downloading chirptext-0.2a6.post2.tar.gz (76 kB)\n",
            "\u001b[2K     \u001b[90m━━━━━━━━━━━━━━━━━━━━━━━━━━━━━━━━━━━━━━━━\u001b[0m \u001b[32m76.3/76.3 kB\u001b[0m \u001b[31m2.7 MB/s\u001b[0m eta \u001b[36m0:00:00\u001b[0m\n",
            "\u001b[?25h  Preparing metadata (setup.py) ... \u001b[?25l\u001b[?25hdone\n",
            "Collecting puchikarui<0.3,>=0.1 (from speach)\n",
            "  Downloading puchikarui-0.1.tar.gz (15 kB)\n",
            "  Preparing metadata (setup.py) ... \u001b[?25l\u001b[?25hdone\n",
            "Building wheels for collected packages: speach, chirptext, puchikarui\n",
            "  Building wheel for speach (setup.py) ... \u001b[?25l\u001b[?25hdone\n",
            "  Created wheel for speach: filename=speach-0.1a15.post1-py3-none-any.whl size=36820 sha256=232b16f7b9abb0f45e51bac81e9d3d7539e017372392c73912dc635c74fc9f58\n",
            "  Stored in directory: /root/.cache/pip/wheels/5e/cf/45/b4140e356a8397a4a1f3eb01543dad8c5e5ae69b87f18fdf69\n",
            "  Building wheel for chirptext (setup.py) ... \u001b[?25l\u001b[?25hdone\n",
            "  Created wheel for chirptext: filename=chirptext-0.2a6.post2-py3-none-any.whl size=59854 sha256=bb24606cdf49d422a6938c956fc8a2c623799a35b715f4d181472e8db2c7eab3\n",
            "  Stored in directory: /root/.cache/pip/wheels/2f/e8/a6/e73417dabf16b0306bc895646db1411d7862f402614791151e\n",
            "  Building wheel for puchikarui (setup.py) ... \u001b[?25l\u001b[?25hdone\n",
            "  Created wheel for puchikarui: filename=puchikarui-0.1-py3-none-any.whl size=10371 sha256=1e5c76e6c61bdff128ed2abf1e43e732c87f3c56bdbadaead3d267a217cf1aa3\n",
            "  Stored in directory: /root/.cache/pip/wheels/aa/28/12/b9463ffb1d5a536de8d5ccc082098bfaa99d0e9f1ae67192ad\n",
            "Successfully built speach chirptext puchikarui\n",
            "Installing collected packages: puchikarui, chirptext, speach\n",
            "Successfully installed chirptext-0.2a6.post2 puchikarui-0.1 speach-0.1a15.post1\n"
          ]
        }
      ]
    },
    {
      "cell_type": "code",
      "source": [
        "from speach import elan\n",
        "import pandas as pd\n",
        "from pathlib import Path\n",
        "import os\n",
        "import re"
      ],
      "metadata": {
        "id": "gPmxsW6e0WC8"
      },
      "execution_count": null,
      "outputs": []
    },
    {
      "cell_type": "code",
      "source": [
        "def clean_text(text):\n",
        "    # 1. Удалить текст в треугольных скобках\n",
        "    text = re.sub(r'<[^>]+>', '', text)\n",
        "\n",
        "    # 2. Удалить буквы перед знаком \"=\"\n",
        "    text = re.sub(r'\\S*=\\s*', '', text)\n",
        "\n",
        "    # 3. Удаляем слово перед скобками и сами скобки, оставляя содержимое внутри\n",
        "    text = re.sub(r'\\S+\\s*\\(([^)]+)\\)', r'\\1', text)\n",
        "\n",
        "    return text"
      ],
      "metadata": {
        "id": "Qja4pEoBe1ie"
      },
      "execution_count": null,
      "outputs": []
    },
    {
      "cell_type": "code",
      "source": [
        "# Список для хранения данных\n",
        "file_list, time_list, text_list = [], [], []\n",
        "\n",
        "# Путь к директории с файлами\n",
        "directory = '/content/gdrive/MyDrive/all_elan/dialect_spiridonova_buda'"
      ],
      "metadata": {
        "id": "6TMnGiA6e3-n"
      },
      "execution_count": null,
      "outputs": []
    },
    {
      "cell_type": "code",
      "source": [
        "# Чтение файлов и извлечение данных\n",
        "for root, dirs, files in os.walk(directory):\n",
        "    for filename in files:\n",
        "        try:\n",
        "            eaf = elan.read_eaf(os.path.join(root, filename))\n",
        "            for tier in eaf:\n",
        "                for ann in tier:\n",
        "                    file_name, time, text = f\"{filename}\", f\"{ann.from_ts} :: {ann.to_ts}\", f\"{ann.text}\"\n",
        "                    file_list.append(file_name)\n",
        "                    time_list.append(time)\n",
        "                    text_list.append(clean_text(text))  # Очистка текста\n",
        "        except Exception as e:\n",
        "            print(f\"Ошибка при обработке файла {filename}: {e}\")"
      ],
      "metadata": {
        "id": "3Mv8HZR7e6z6"
      },
      "execution_count": null,
      "outputs": []
    },
    {
      "cell_type": "code",
      "source": [
        "# Создание DataFrame\n",
        "df = pd.DataFrame({\n",
        "    'file': file_list,\n",
        "    'time': time_list,\n",
        "    'text': text_list\n",
        "})\n",
        "\n",
        "# Сохранение в CSV\n",
        "output_file = 'table.csv'\n",
        "df.to_csv(output_file, index=False)\n",
        "\n",
        "print(f\"Результаты сохранены в {output_file}\")"
      ],
      "metadata": {
        "colab": {
          "base_uri": "https://localhost:8080/"
        },
        "id": "wDQCjB0Ge9d9",
        "outputId": "3144ac24-7123-46f5-b7f3-c775675d46ff"
      },
      "execution_count": null,
      "outputs": [
        {
          "output_type": "stream",
          "name": "stdout",
          "text": [
            "Результаты сохранены в table.csv\n"
          ]
        }
      ]
    }
  ]
}
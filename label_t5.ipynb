{
  "nbformat": 4,
  "nbformat_minor": 0,
  "metadata": {
    "colab": {
      "provenance": []
    },
    "kernelspec": {
      "name": "python3",
      "display_name": "Python 3"
    },
    "language_info": {
      "name": "python"
    }
  },
  "cells": [
    {
      "cell_type": "code",
      "execution_count": null,
      "metadata": {
        "id": "1X_tM1f-InaB"
      },
      "outputs": [],
      "source": [
        "import re\n",
        "import pandas as pd"
      ]
    },
    {
      "cell_type": "code",
      "source": [
        "def label_words(text):\n",
        "    \"\"\"Размечает слова в предложении на O (other) и D (dialect).\"\"\"\n",
        "    tokens = []\n",
        "    words = re.split(r'(\\[.*?\\]|\\s+)', text)  # Разделяем текст на слова и пробелы, включая пометки []\n",
        "\n",
        "    for word in words:\n",
        "        if word.startswith('[') and word.endswith(']'):\n",
        "            clean_word = word[1:-1]  # Убираем квадратные скобки\n",
        "            tokens.append((clean_word, 'D'))\n",
        "        elif word.strip():  # Если слово не пустое (не пробел)\n",
        "            tokens.append((word.strip(), 'O'))\n",
        "\n",
        "    return tokens"
      ],
      "metadata": {
        "id": "m8AQZ6vDIqwj"
      },
      "execution_count": null,
      "outputs": []
    },
    {
      "cell_type": "code",
      "source": [
        "def is_invalid_corrected(text):\n",
        "    \"\"\"Проверяет, является ли текст недопустимым (только многоточия или только цифры).\"\"\"\n",
        "    # Удаляем пробелы и проверяем на содержание только цифр\n",
        "    if re.fullmatch(r'\\d+', text.strip()):\n",
        "        return True\n",
        "    # Проверяем, состоит ли текст только из многоточий\n",
        "    if text.strip() == '......':\n",
        "        return True\n",
        "    return False"
      ],
      "metadata": {
        "id": "vba5SKThIsEy"
      },
      "execution_count": null,
      "outputs": []
    },
    {
      "cell_type": "code",
      "source": [
        "def process_highlighted_errors(input_file, output_file):\n",
        "    # Шаг 1: Прочитать файл\n",
        "    df = pd.read_csv(input_file)\n",
        "\n",
        "    # Шаг 2: Убедиться, что в колонке 'highlighted' нет NaN значений\n",
        "    df = df.dropna(subset=['highlighted', 'corrected'])\n",
        "\n",
        "    # Шаг 3: Отфильтровать строки, где есть квадратные скобки []\n",
        "    df_with_errors = df[df['highlighted'].str.contains(r'\\[.*?\\]')]\n",
        "\n",
        "    # Шаг 4: Удалить строки, где в колонке 'corrected' содержится \"ошибки в тексте\"\n",
        "    df_with_errors = df_with_errors[~df_with_errors['corrected'].str.contains(\"ошибки в тексте\")]\n",
        "\n",
        "    # Шаг 5: Удалить строки, где 'corrected' состоит только из многоточий или только из цифр\n",
        "    df_with_errors = df_with_errors[~df_with_errors['corrected'].apply(is_invalid_corrected)]\n",
        "\n",
        "    # Шаг 6: Разметить слова\n",
        "    df_with_errors['labeled'] = df_with_errors['highlighted'].apply(label_words)\n",
        "\n",
        "    # Шаг 7: Записать результат в файл\n",
        "    df_with_errors.to_csv(output_file, index=False)\n",
        "\n",
        "    # Возврат отфильтрованного и размеченного DataFrame\n",
        "    return df_with_errors"
      ],
      "metadata": {
        "id": "5Jq6JZ9xIugP"
      },
      "execution_count": null,
      "outputs": []
    },
    {
      "cell_type": "code",
      "source": [
        "# Использование функции\n",
        "df_with_errors = process_highlighted_errors('highlighted_errors.csv', 'df_with_errors.csv')"
      ],
      "metadata": {
        "id": "4_IWPz2IIxA_"
      },
      "execution_count": null,
      "outputs": []
    }
  ]
}